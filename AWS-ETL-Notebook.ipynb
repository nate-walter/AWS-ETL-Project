{
 "cells": [
  {
   "cell_type": "markdown",
   "id": "db60ac18",
   "metadata": {},
   "source": [
    "Unzipping the github data"
   ]
  },
  {
   "cell_type": "code",
   "execution_count": 4,
   "id": "af12d1dc",
   "metadata": {},
   "outputs": [],
   "source": [
    "# import zipfile\n",
    "# with zipfile.ZipFile(\"aws-data-engineering-main.zip\", 'r') as aws_zip:\n",
    "#     aws_zip.extractall(\"aws_unzip\")"
   ]
  },
  {
   "cell_type": "code",
   "execution_count": null,
   "id": "9b96b381",
   "metadata": {},
   "outputs": [],
   "source": []
  }
 ],
 "metadata": {
  "kernelspec": {
   "display_name": "firstEnv",
   "language": "python",
   "name": "firstenv"
  },
  "language_info": {
   "codemirror_mode": {
    "name": "ipython",
    "version": 3
   },
   "file_extension": ".py",
   "mimetype": "text/x-python",
   "name": "python",
   "nbconvert_exporter": "python",
   "pygments_lexer": "ipython3",
   "version": "3.9.6"
  },
  "toc": {
   "base_numbering": 1,
   "nav_menu": {},
   "number_sections": true,
   "sideBar": true,
   "skip_h1_title": false,
   "title_cell": "Table of Contents",
   "title_sidebar": "Contents",
   "toc_cell": false,
   "toc_position": {},
   "toc_section_display": true,
   "toc_window_display": false
  }
 },
 "nbformat": 4,
 "nbformat_minor": 5
}
